{
 "cells": [
  {
   "cell_type": "markdown",
   "metadata": {},
   "source": [
    "# 0. Setup"
   ]
  },
  {
   "cell_type": "code",
   "execution_count": 460,
   "metadata": {},
   "outputs": [],
   "source": [
    "import pandas as pd\n",
    "import matplotlib.pyplot as plt\n",
    "from sklearn.feature_selection import mutual_info_regression\n",
    "from sklearn.model_selection import train_test_split, cross_val_score\n",
    "from sklearn.ensemble import RandomForestRegressor\n",
    "from sklearn.pipeline import Pipeline\n",
    "from sklearn.compose import ColumnTransformer\n",
    "from sklearn.preprocessing import OneHotEncoder\n",
    "from xgboost import XGBRegressor"
   ]
  },
  {
   "cell_type": "markdown",
   "metadata": {},
   "source": [
    "# 1. Data Loading and Cleaning"
   ]
  },
  {
   "cell_type": "code",
   "execution_count": 461,
   "metadata": {},
   "outputs": [
    {
     "data": {
      "text/html": [
       "<div>\n",
       "<style scoped>\n",
       "    .dataframe tbody tr th:only-of-type {\n",
       "        vertical-align: middle;\n",
       "    }\n",
       "\n",
       "    .dataframe tbody tr th {\n",
       "        vertical-align: top;\n",
       "    }\n",
       "\n",
       "    .dataframe thead th {\n",
       "        text-align: right;\n",
       "    }\n",
       "</style>\n",
       "<table border=\"1\" class=\"dataframe\">\n",
       "  <thead>\n",
       "    <tr style=\"text-align: right;\">\n",
       "      <th></th>\n",
       "      <th>Size (cm)</th>\n",
       "      <th>Weight (g)</th>\n",
       "      <th>Brix (Sweetness)</th>\n",
       "      <th>pH (Acidity)</th>\n",
       "      <th>Softness (1-5)</th>\n",
       "      <th>HarvestTime (days)</th>\n",
       "      <th>Ripeness (1-5)</th>\n",
       "      <th>Color</th>\n",
       "      <th>Variety</th>\n",
       "      <th>Blemishes (Y/N)</th>\n",
       "      <th>Quality (1-5)</th>\n",
       "    </tr>\n",
       "  </thead>\n",
       "  <tbody>\n",
       "    <tr>\n",
       "      <th>0</th>\n",
       "      <td>7.5</td>\n",
       "      <td>180</td>\n",
       "      <td>12.0</td>\n",
       "      <td>3.2</td>\n",
       "      <td>2.0</td>\n",
       "      <td>10</td>\n",
       "      <td>4.0</td>\n",
       "      <td>Orange</td>\n",
       "      <td>Valencia</td>\n",
       "      <td>N</td>\n",
       "      <td>4.0</td>\n",
       "    </tr>\n",
       "    <tr>\n",
       "      <th>1</th>\n",
       "      <td>8.2</td>\n",
       "      <td>220</td>\n",
       "      <td>10.5</td>\n",
       "      <td>3.4</td>\n",
       "      <td>3.0</td>\n",
       "      <td>14</td>\n",
       "      <td>4.5</td>\n",
       "      <td>Deep Orange</td>\n",
       "      <td>Navel</td>\n",
       "      <td>N</td>\n",
       "      <td>4.5</td>\n",
       "    </tr>\n",
       "    <tr>\n",
       "      <th>2</th>\n",
       "      <td>6.8</td>\n",
       "      <td>150</td>\n",
       "      <td>14.0</td>\n",
       "      <td>3.0</td>\n",
       "      <td>1.0</td>\n",
       "      <td>7</td>\n",
       "      <td>5.0</td>\n",
       "      <td>Light Orange</td>\n",
       "      <td>Cara Cara</td>\n",
       "      <td>N</td>\n",
       "      <td>5.0</td>\n",
       "    </tr>\n",
       "    <tr>\n",
       "      <th>3</th>\n",
       "      <td>9.0</td>\n",
       "      <td>250</td>\n",
       "      <td>8.5</td>\n",
       "      <td>3.8</td>\n",
       "      <td>4.0</td>\n",
       "      <td>21</td>\n",
       "      <td>3.5</td>\n",
       "      <td>Orange-Red</td>\n",
       "      <td>Blood Orange</td>\n",
       "      <td>N</td>\n",
       "      <td>3.5</td>\n",
       "    </tr>\n",
       "    <tr>\n",
       "      <th>4</th>\n",
       "      <td>8.5</td>\n",
       "      <td>210</td>\n",
       "      <td>11.5</td>\n",
       "      <td>3.3</td>\n",
       "      <td>2.5</td>\n",
       "      <td>12</td>\n",
       "      <td>5.0</td>\n",
       "      <td>Orange</td>\n",
       "      <td>Hamlin</td>\n",
       "      <td>Y (Minor)</td>\n",
       "      <td>4.5</td>\n",
       "    </tr>\n",
       "  </tbody>\n",
       "</table>\n",
       "</div>"
      ],
      "text/plain": [
       "   Size (cm)  Weight (g)  Brix (Sweetness)  pH (Acidity)  Softness (1-5)  \\\n",
       "0        7.5         180              12.0           3.2             2.0   \n",
       "1        8.2         220              10.5           3.4             3.0   \n",
       "2        6.8         150              14.0           3.0             1.0   \n",
       "3        9.0         250               8.5           3.8             4.0   \n",
       "4        8.5         210              11.5           3.3             2.5   \n",
       "\n",
       "   HarvestTime (days)  Ripeness (1-5)         Color       Variety  \\\n",
       "0                  10             4.0        Orange      Valencia   \n",
       "1                  14             4.5   Deep Orange         Navel   \n",
       "2                   7             5.0  Light Orange     Cara Cara   \n",
       "3                  21             3.5    Orange-Red  Blood Orange   \n",
       "4                  12             5.0        Orange        Hamlin   \n",
       "\n",
       "  Blemishes (Y/N)  Quality (1-5)  \n",
       "0               N            4.0  \n",
       "1               N            4.5  \n",
       "2               N            5.0  \n",
       "3               N            3.5  \n",
       "4       Y (Minor)            4.5  "
      ]
     },
     "execution_count": 461,
     "metadata": {},
     "output_type": "execute_result"
    }
   ],
   "source": [
    "raw_data = pd.read_csv('Orange Quality Data.csv')\n",
    "raw_data.head()"
   ]
  },
  {
   "cell_type": "code",
   "execution_count": 462,
   "metadata": {},
   "outputs": [
    {
     "data": {
      "text/plain": [
       "Size (cm)             False\n",
       "Weight (g)            False\n",
       "Brix (Sweetness)      False\n",
       "pH (Acidity)          False\n",
       "Softness (1-5)        False\n",
       "HarvestTime (days)    False\n",
       "Ripeness (1-5)        False\n",
       "Color                 False\n",
       "Variety               False\n",
       "Blemishes (Y/N)       False\n",
       "Quality (1-5)         False\n",
       "dtype: bool"
      ]
     },
     "execution_count": 462,
     "metadata": {},
     "output_type": "execute_result"
    }
   ],
   "source": [
    "# Check for empty values\n",
    "raw_data.isnull().any()"
   ]
  },
  {
   "cell_type": "markdown",
   "metadata": {},
   "source": [
    "There are no missing values in the data"
   ]
  },
  {
   "cell_type": "code",
   "execution_count": 463,
   "metadata": {},
   "outputs": [
    {
     "data": {
      "text/html": [
       "<div>\n",
       "<style scoped>\n",
       "    .dataframe tbody tr th:only-of-type {\n",
       "        vertical-align: middle;\n",
       "    }\n",
       "\n",
       "    .dataframe tbody tr th {\n",
       "        vertical-align: top;\n",
       "    }\n",
       "\n",
       "    .dataframe thead th {\n",
       "        text-align: right;\n",
       "    }\n",
       "</style>\n",
       "<table border=\"1\" class=\"dataframe\">\n",
       "  <thead>\n",
       "    <tr style=\"text-align: right;\">\n",
       "      <th></th>\n",
       "      <th>Size</th>\n",
       "      <th>Weight</th>\n",
       "      <th>Brix</th>\n",
       "      <th>pH</th>\n",
       "      <th>Softness</th>\n",
       "      <th>HarvestTime</th>\n",
       "      <th>Ripeness</th>\n",
       "      <th>Color</th>\n",
       "      <th>Variety</th>\n",
       "      <th>Blemishes</th>\n",
       "      <th>Quality</th>\n",
       "    </tr>\n",
       "  </thead>\n",
       "  <tbody>\n",
       "    <tr>\n",
       "      <th>0</th>\n",
       "      <td>7.5</td>\n",
       "      <td>180</td>\n",
       "      <td>12.0</td>\n",
       "      <td>3.2</td>\n",
       "      <td>2.0</td>\n",
       "      <td>10</td>\n",
       "      <td>4.0</td>\n",
       "      <td>Orange</td>\n",
       "      <td>Valencia</td>\n",
       "      <td>N</td>\n",
       "      <td>4.0</td>\n",
       "    </tr>\n",
       "    <tr>\n",
       "      <th>1</th>\n",
       "      <td>8.2</td>\n",
       "      <td>220</td>\n",
       "      <td>10.5</td>\n",
       "      <td>3.4</td>\n",
       "      <td>3.0</td>\n",
       "      <td>14</td>\n",
       "      <td>4.5</td>\n",
       "      <td>Deep Orange</td>\n",
       "      <td>Navel</td>\n",
       "      <td>N</td>\n",
       "      <td>4.5</td>\n",
       "    </tr>\n",
       "    <tr>\n",
       "      <th>2</th>\n",
       "      <td>6.8</td>\n",
       "      <td>150</td>\n",
       "      <td>14.0</td>\n",
       "      <td>3.0</td>\n",
       "      <td>1.0</td>\n",
       "      <td>7</td>\n",
       "      <td>5.0</td>\n",
       "      <td>Light Orange</td>\n",
       "      <td>Cara Cara</td>\n",
       "      <td>N</td>\n",
       "      <td>5.0</td>\n",
       "    </tr>\n",
       "    <tr>\n",
       "      <th>3</th>\n",
       "      <td>9.0</td>\n",
       "      <td>250</td>\n",
       "      <td>8.5</td>\n",
       "      <td>3.8</td>\n",
       "      <td>4.0</td>\n",
       "      <td>21</td>\n",
       "      <td>3.5</td>\n",
       "      <td>Orange-Red</td>\n",
       "      <td>Blood Orange</td>\n",
       "      <td>N</td>\n",
       "      <td>3.5</td>\n",
       "    </tr>\n",
       "    <tr>\n",
       "      <th>4</th>\n",
       "      <td>8.5</td>\n",
       "      <td>210</td>\n",
       "      <td>11.5</td>\n",
       "      <td>3.3</td>\n",
       "      <td>2.5</td>\n",
       "      <td>12</td>\n",
       "      <td>5.0</td>\n",
       "      <td>Orange</td>\n",
       "      <td>Hamlin</td>\n",
       "      <td>Y (Minor)</td>\n",
       "      <td>4.5</td>\n",
       "    </tr>\n",
       "  </tbody>\n",
       "</table>\n",
       "</div>"
      ],
      "text/plain": [
       "   Size  Weight  Brix   pH  Softness  HarvestTime  Ripeness         Color  \\\n",
       "0   7.5     180  12.0  3.2       2.0           10       4.0        Orange   \n",
       "1   8.2     220  10.5  3.4       3.0           14       4.5   Deep Orange   \n",
       "2   6.8     150  14.0  3.0       1.0            7       5.0  Light Orange   \n",
       "3   9.0     250   8.5  3.8       4.0           21       3.5    Orange-Red   \n",
       "4   8.5     210  11.5  3.3       2.5           12       5.0        Orange   \n",
       "\n",
       "        Variety  Blemishes  Quality  \n",
       "0      Valencia          N      4.0  \n",
       "1         Navel          N      4.5  \n",
       "2     Cara Cara          N      5.0  \n",
       "3  Blood Orange          N      3.5  \n",
       "4        Hamlin  Y (Minor)      4.5  "
      ]
     },
     "execution_count": 463,
     "metadata": {},
     "output_type": "execute_result"
    }
   ],
   "source": [
    "# Clean up column names\n",
    "raw_data.columns = [col.split(' ')[0] for col in raw_data.columns.to_list()]\n",
    "raw_data.head()"
   ]
  },
  {
   "cell_type": "code",
   "execution_count": 464,
   "metadata": {},
   "outputs": [
    {
     "data": {
      "text/plain": [
       "array(['N', 'Y (Minor)', 'Y (Sunburn)', 'Y (Mold Spot)', 'Y (Bruise)',\n",
       "       'Y (Split Skin)', 'Y (Sunburn Patch)', 'Y (Scars)',\n",
       "       'Y (Minor Insect Damage)', 'Y (Bruising)', 'N (Minor)',\n",
       "       'N (Split Skin)'], dtype=object)"
      ]
     },
     "execution_count": 464,
     "metadata": {},
     "output_type": "execute_result"
    }
   ],
   "source": [
    "# Get unique types of blemishes\n",
    "raw_data['Blemishes'].unique()"
   ]
  },
  {
   "cell_type": "markdown",
   "metadata": {},
   "source": [
    "There are two ways to deal with this the various types of blemishes. We can ignore the type of blemish and treat these all as a generic Y/N, or one hot encode each type of blemish. We will try the former first, then go back and try the latter after to see if it improves performance."
   ]
  },
  {
   "cell_type": "code",
   "execution_count": 465,
   "metadata": {},
   "outputs": [
    {
     "data": {
      "text/plain": [
       "array(['N', 'Y'], dtype=object)"
      ]
     },
     "execution_count": 465,
     "metadata": {},
     "output_type": "execute_result"
    }
   ],
   "source": [
    "data_1 = raw_data.copy()\n",
    "data_1['Blemishes'] = [row.split(' ')[0] for row in raw_data['Blemishes']]\n",
    "data_1['Blemishes'].unique()"
   ]
  },
  {
   "cell_type": "code",
   "execution_count": 466,
   "metadata": {},
   "outputs": [
    {
     "data": {
      "text/html": [
       "<div>\n",
       "<style scoped>\n",
       "    .dataframe tbody tr th:only-of-type {\n",
       "        vertical-align: middle;\n",
       "    }\n",
       "\n",
       "    .dataframe tbody tr th {\n",
       "        vertical-align: top;\n",
       "    }\n",
       "\n",
       "    .dataframe thead th {\n",
       "        text-align: right;\n",
       "    }\n",
       "</style>\n",
       "<table border=\"1\" class=\"dataframe\">\n",
       "  <thead>\n",
       "    <tr style=\"text-align: right;\">\n",
       "      <th></th>\n",
       "      <th>Size</th>\n",
       "      <th>Weight</th>\n",
       "      <th>Brix</th>\n",
       "      <th>pH</th>\n",
       "      <th>Softness</th>\n",
       "      <th>HarvestTime</th>\n",
       "      <th>Ripeness</th>\n",
       "      <th>Color</th>\n",
       "      <th>Variety</th>\n",
       "      <th>Blemishes</th>\n",
       "      <th>Quality</th>\n",
       "    </tr>\n",
       "  </thead>\n",
       "  <tbody>\n",
       "    <tr>\n",
       "      <th>0</th>\n",
       "      <td>7.5</td>\n",
       "      <td>180</td>\n",
       "      <td>12.0</td>\n",
       "      <td>3.2</td>\n",
       "      <td>2.0</td>\n",
       "      <td>10</td>\n",
       "      <td>4.0</td>\n",
       "      <td>Orange</td>\n",
       "      <td>Valencia</td>\n",
       "      <td>N</td>\n",
       "      <td>4.0</td>\n",
       "    </tr>\n",
       "    <tr>\n",
       "      <th>1</th>\n",
       "      <td>8.2</td>\n",
       "      <td>220</td>\n",
       "      <td>10.5</td>\n",
       "      <td>3.4</td>\n",
       "      <td>3.0</td>\n",
       "      <td>14</td>\n",
       "      <td>4.5</td>\n",
       "      <td>Deep Orange</td>\n",
       "      <td>Navel</td>\n",
       "      <td>N</td>\n",
       "      <td>4.5</td>\n",
       "    </tr>\n",
       "    <tr>\n",
       "      <th>2</th>\n",
       "      <td>6.8</td>\n",
       "      <td>150</td>\n",
       "      <td>14.0</td>\n",
       "      <td>3.0</td>\n",
       "      <td>1.0</td>\n",
       "      <td>7</td>\n",
       "      <td>5.0</td>\n",
       "      <td>Light Orange</td>\n",
       "      <td>Cara Cara</td>\n",
       "      <td>N</td>\n",
       "      <td>5.0</td>\n",
       "    </tr>\n",
       "    <tr>\n",
       "      <th>3</th>\n",
       "      <td>9.0</td>\n",
       "      <td>250</td>\n",
       "      <td>8.5</td>\n",
       "      <td>3.8</td>\n",
       "      <td>4.0</td>\n",
       "      <td>21</td>\n",
       "      <td>3.5</td>\n",
       "      <td>Orange-Red</td>\n",
       "      <td>Blood Orange</td>\n",
       "      <td>N</td>\n",
       "      <td>3.5</td>\n",
       "    </tr>\n",
       "    <tr>\n",
       "      <th>4</th>\n",
       "      <td>8.5</td>\n",
       "      <td>210</td>\n",
       "      <td>11.5</td>\n",
       "      <td>3.3</td>\n",
       "      <td>2.5</td>\n",
       "      <td>12</td>\n",
       "      <td>5.0</td>\n",
       "      <td>Orange</td>\n",
       "      <td>Hamlin</td>\n",
       "      <td>Y</td>\n",
       "      <td>4.5</td>\n",
       "    </tr>\n",
       "  </tbody>\n",
       "</table>\n",
       "</div>"
      ],
      "text/plain": [
       "   Size  Weight  Brix   pH  Softness  HarvestTime  Ripeness         Color  \\\n",
       "0   7.5     180  12.0  3.2       2.0           10       4.0        Orange   \n",
       "1   8.2     220  10.5  3.4       3.0           14       4.5   Deep Orange   \n",
       "2   6.8     150  14.0  3.0       1.0            7       5.0  Light Orange   \n",
       "3   9.0     250   8.5  3.8       4.0           21       3.5    Orange-Red   \n",
       "4   8.5     210  11.5  3.3       2.5           12       5.0        Orange   \n",
       "\n",
       "        Variety Blemishes  Quality  \n",
       "0      Valencia         N      4.0  \n",
       "1         Navel         N      4.5  \n",
       "2     Cara Cara         N      5.0  \n",
       "3  Blood Orange         N      3.5  \n",
       "4        Hamlin         Y      4.5  "
      ]
     },
     "execution_count": 466,
     "metadata": {},
     "output_type": "execute_result"
    }
   ],
   "source": [
    "data_1.head()"
   ]
  },
  {
   "cell_type": "markdown",
   "metadata": {},
   "source": [
    "# 2. Visualizations"
   ]
  },
  {
   "cell_type": "code",
   "execution_count": 467,
   "metadata": {},
   "outputs": [
    {
     "data": {
      "image/png": "[encoded data removed]",
      "text/plain": [
       "<Figure size 1280x1280 with 8 Axes>"
      ]
     },
     "metadata": {},
     "output_type": "display_data"
    }
   ],
   "source": [
    "# Histograms of all numerical values, figure parameters are somewhat arbitrary to make it look readable\n",
    "fig, ax = plt.subplots(ncols = 2, nrows = 4, figsize = [12.8, 12.8], layout = 'tight')\n",
    "features_to_plot = ['Size', 'Weight', 'Brix', 'pH', 'Softness', 'HarvestTime', 'Ripeness', 'Quality']\n",
    "for i in range(4):\n",
    "    for j in range(2):\n",
    "        ax[i, j].hist(data_1[features_to_plot[2*i + j]])\n",
    "        ax[i, j].set_title(features_to_plot[2*i + j])"
   ]
  },
  {
   "cell_type": "markdown",
   "metadata": {},
   "source": [
    "Ripeness and softness have a disproportionate amount of whole number ratings, and a quality of 4.0 seems to be the most common."
   ]
  },
  {
   "cell_type": "markdown",
   "metadata": {},
   "source": [
    "There are some intuitive relationships between the variables, such as size and weight having a positive relationship, so we can plot some of them against each other to verify them."
   ]
  },
  {
   "cell_type": "code",
   "execution_count": 468,
   "metadata": {},
   "outputs": [
    {
     "data": {
      "text/plain": [
       "<matplotlib.collections.PathCollection at 0x20ef05d20e0>"
      ]
     },
     "execution_count": 468,
     "metadata": {},
     "output_type": "execute_result"
    },
    {
     "data": {
      "image/png": "[encoded data removed]",
      "text/plain": [
       "<Figure size 640x480 with 1 Axes>"
      ]
     },
     "metadata": {},
     "output_type": "display_data"
    }
   ],
   "source": [
    "plt.scatter(data_1['Size'], data_1['Weight'])"
   ]
  },
  {
   "cell_type": "code",
   "execution_count": 469,
   "metadata": {},
   "outputs": [
    {
     "data": {
      "text/plain": [
       "<matplotlib.collections.PathCollection at 0x20eebbc1450>"
      ]
     },
     "execution_count": 469,
     "metadata": {},
     "output_type": "execute_result"
    },
    {
     "data": {
      "image/png": "[encoded data removed]",
      "text/plain": [
       "<Figure size 640x480 with 1 Axes>"
      ]
     },
     "metadata": {},
     "output_type": "display_data"
    }
   ],
   "source": [
    "# This is pretty useless without jitter\n",
    "plt.scatter(data_1['Ripeness'], data_1['Softness'])"
   ]
  },
  {
   "cell_type": "markdown",
   "metadata": {},
   "source": [
    "Size and weight seem to have a positive correlation."
   ]
  },
  {
   "cell_type": "markdown",
   "metadata": {},
   "source": [
    "# 3. Choosing Features"
   ]
  },
  {
   "cell_type": "markdown",
   "metadata": {},
   "source": [
    "Even though there aren't that many features, some of them may be irrelevant so it may be useful to try and eliminate some. We will do this with mutual information scores."
   ]
  },
  {
   "cell_type": "code",
   "execution_count": 470,
   "metadata": {},
   "outputs": [],
   "source": [
    "# Start by filling X with all features\n",
    "X = data_1.copy()\n",
    "y = X.pop('Quality')"
   ]
  },
  {
   "cell_type": "code",
   "execution_count": 471,
   "metadata": {},
   "outputs": [
    {
     "data": {
      "text/plain": [
       "Size           float64\n",
       "Weight           int64\n",
       "Brix           float64\n",
       "pH             float64\n",
       "Softness       float64\n",
       "HarvestTime      int64\n",
       "Ripeness       float64\n",
       "Color           object\n",
       "Variety         object\n",
       "Blemishes       object\n",
       "Quality        float64\n",
       "dtype: object"
      ]
     },
     "execution_count": 471,
     "metadata": {},
     "output_type": "execute_result"
    }
   ],
   "source": [
    "data_1.dtypes"
   ]
  },
  {
   "cell_type": "code",
   "execution_count": 472,
   "metadata": {},
   "outputs": [
    {
     "data": {
      "text/plain": [
       "Size           float64\n",
       "Weight           int64\n",
       "Brix           float64\n",
       "pH             float64\n",
       "Softness       float64\n",
       "HarvestTime      int64\n",
       "Ripeness       float64\n",
       "Color            int64\n",
       "Variety          int64\n",
       "Blemishes        int64\n",
       "dtype: object"
      ]
     },
     "execution_count": 472,
     "metadata": {},
     "output_type": "execute_result"
    }
   ],
   "source": [
    "# Factor object columns\n",
    "for col in X.select_dtypes('object'):\n",
    "    X[col], _ = X[col].factorize()\n",
    "\n",
    "X.dtypes"
   ]
  },
  {
   "cell_type": "code",
   "execution_count": 473,
   "metadata": {},
   "outputs": [
    {
     "name": "stdout",
     "output_type": "stream",
     "text": [
      "Brix           0.434079\n",
      "Softness       0.288758\n",
      "Color          0.262963\n",
      "Variety        0.231099\n",
      "Ripeness       0.212214\n",
      "Weight         0.192300\n",
      "pH             0.159311\n",
      "HarvestTime    0.156525\n",
      "Blemishes      0.146225\n",
      "Size           0.078770\n",
      "dtype: float64\n"
     ]
    }
   ],
   "source": [
    "mi_scores = mutual_info_regression(X, y, discrete_features = X.dtypes == int)\n",
    "mi_scores = pd.Series(mi_scores, index = X.columns).sort_values(ascending = False)\n",
    "print(mi_scores)"
   ]
  },
  {
   "cell_type": "code",
   "execution_count": 474,
   "metadata": {},
   "outputs": [
    {
     "data": {
      "text/plain": [
       "<BarContainer object of 10 artists>"
      ]
     },
     "execution_count": 474,
     "metadata": {},
     "output_type": "execute_result"
    },
    {
     "data": {
      "image/png": "[encoded data removed]",
      "text/plain": [
       "<Figure size 1600x600 with 1 Axes>"
      ]
     },
     "metadata": {},
     "output_type": "display_data"
    }
   ],
   "source": [
    "plt.figure(figsize=(16, 6))\n",
    "plt.bar(x = mi_scores.index, height = mi_scores, width = 0.5)"
   ]
  },
  {
   "cell_type": "markdown",
   "metadata": {},
   "source": [
    "We can start by eliminating size and blemishes to see how the model performs compared to using all features, though given the low amount of features the impact will likely be minimal."
   ]
  },
  {
   "cell_type": "markdown",
   "metadata": {},
   "source": [
    "# 4. Model Building"
   ]
  },
  {
   "cell_type": "markdown",
   "metadata": {},
   "source": [
    "We use a random forest model first as a baseline. Since we factored the categorical variables previously, we don't need to do that again for this model. Model performance is assessed with cross-validation using the mean MAE of 5 runs."
   ]
  },
  {
   "cell_type": "markdown",
   "metadata": {},
   "source": [
    "This first model includes all features."
   ]
  },
  {
   "cell_type": "code",
   "execution_count": 475,
   "metadata": {},
   "outputs": [
    {
     "data": {
      "text/plain": [
       "0.49426232993197283"
      ]
     },
     "execution_count": 475,
     "metadata": {},
     "output_type": "execute_result"
    }
   ],
   "source": [
    "rf_model_1 = RandomForestRegressor(random_state = 1)\n",
    "rf_model_1.fit(X, y)\n",
    "\n",
    "scores = -1 * cross_val_score(rf_model_1, X, y, cv = 5, scoring = 'neg_mean_absolute_error')\n",
    "scores.mean()"
   ]
  },
  {
   "cell_type": "markdown",
   "metadata": {},
   "source": [
    "This next model excludes size and blemishes, due to their low MI score, as well as weight due to its relationship with size."
   ]
  },
  {
   "cell_type": "code",
   "execution_count": 476,
   "metadata": {},
   "outputs": [
    {
     "data": {
      "text/html": [
       "<div>\n",
       "<style scoped>\n",
       "    .dataframe tbody tr th:only-of-type {\n",
       "        vertical-align: middle;\n",
       "    }\n",
       "\n",
       "    .dataframe tbody tr th {\n",
       "        vertical-align: top;\n",
       "    }\n",
       "\n",
       "    .dataframe thead th {\n",
       "        text-align: right;\n",
       "    }\n",
       "</style>\n",
       "<table border=\"1\" class=\"dataframe\">\n",
       "  <thead>\n",
       "    <tr style=\"text-align: right;\">\n",
       "      <th></th>\n",
       "      <th>Brix</th>\n",
       "      <th>pH</th>\n",
       "      <th>Softness</th>\n",
       "      <th>HarvestTime</th>\n",
       "      <th>Ripeness</th>\n",
       "      <th>Color</th>\n",
       "      <th>Variety</th>\n",
       "    </tr>\n",
       "  </thead>\n",
       "  <tbody>\n",
       "    <tr>\n",
       "      <th>0</th>\n",
       "      <td>12.0</td>\n",
       "      <td>3.2</td>\n",
       "      <td>2.0</td>\n",
       "      <td>10</td>\n",
       "      <td>4.0</td>\n",
       "      <td>0</td>\n",
       "      <td>0</td>\n",
       "    </tr>\n",
       "    <tr>\n",
       "      <th>1</th>\n",
       "      <td>10.5</td>\n",
       "      <td>3.4</td>\n",
       "      <td>3.0</td>\n",
       "      <td>14</td>\n",
       "      <td>4.5</td>\n",
       "      <td>1</td>\n",
       "      <td>1</td>\n",
       "    </tr>\n",
       "    <tr>\n",
       "      <th>2</th>\n",
       "      <td>14.0</td>\n",
       "      <td>3.0</td>\n",
       "      <td>1.0</td>\n",
       "      <td>7</td>\n",
       "      <td>5.0</td>\n",
       "      <td>2</td>\n",
       "      <td>2</td>\n",
       "    </tr>\n",
       "    <tr>\n",
       "      <th>3</th>\n",
       "      <td>8.5</td>\n",
       "      <td>3.8</td>\n",
       "      <td>4.0</td>\n",
       "      <td>21</td>\n",
       "      <td>3.5</td>\n",
       "      <td>3</td>\n",
       "      <td>3</td>\n",
       "    </tr>\n",
       "    <tr>\n",
       "      <th>4</th>\n",
       "      <td>11.5</td>\n",
       "      <td>3.3</td>\n",
       "      <td>2.5</td>\n",
       "      <td>12</td>\n",
       "      <td>5.0</td>\n",
       "      <td>0</td>\n",
       "      <td>4</td>\n",
       "    </tr>\n",
       "  </tbody>\n",
       "</table>\n",
       "</div>"
      ],
      "text/plain": [
       "   Brix   pH  Softness  HarvestTime  Ripeness  Color  Variety\n",
       "0  12.0  3.2       2.0           10       4.0      0        0\n",
       "1  10.5  3.4       3.0           14       4.5      1        1\n",
       "2  14.0  3.0       1.0            7       5.0      2        2\n",
       "3   8.5  3.8       4.0           21       3.5      3        3\n",
       "4  11.5  3.3       2.5           12       5.0      0        4"
      ]
     },
     "execution_count": 476,
     "metadata": {},
     "output_type": "execute_result"
    }
   ],
   "source": [
    "X_temp = X.copy()\n",
    "X_temp.pop('Size')\n",
    "X_temp.pop('Weight')\n",
    "X_temp.pop('Blemishes')\n",
    "X_temp.head()"
   ]
  },
  {
   "cell_type": "code",
   "execution_count": 477,
   "metadata": {},
   "outputs": [
    {
     "data": {
      "text/plain": [
       "0.5352831632653061"
      ]
     },
     "execution_count": 477,
     "metadata": {},
     "output_type": "execute_result"
    }
   ],
   "source": [
    "rf_model_2 = RandomForestRegressor(random_state = 1)\n",
    "rf_model_2.fit(X_temp, y)\n",
    "\n",
    "scores = -1 * cross_val_score(rf_model_2, X_temp, y, cv = 5, scoring = 'neg_mean_absolute_error')\n",
    "scores.mean()"
   ]
  },
  {
   "cell_type": "markdown",
   "metadata": {},
   "source": [
    "Removing the low MI score features hurts the model's performance, suggesting they may have useful interactions with other variables."
   ]
  },
  {
   "cell_type": "markdown",
   "metadata": {},
   "source": [
    "# 5: Starting over with One Hot Encoding"
   ]
  },
  {
   "cell_type": "markdown",
   "metadata": {},
   "source": [
    "We can try a model with one hot encoding on each categorical variable rather than ordinal. We also undo the change done to the blemishes column. Since there are no missing values, there is no need to modify any numerical values."
   ]
  },
  {
   "cell_type": "code",
   "execution_count": 478,
   "metadata": {},
   "outputs": [],
   "source": [
    "# Start by filling X with all features\n",
    "X_OH = raw_data.copy()\n",
    "y_OH = X_OH.pop('Quality')\n",
    "\n",
    "# Get categorical columns\n",
    "categorical_col = raw_data.select_dtypes('object').columns.to_list()"
   ]
  },
  {
   "cell_type": "code",
   "execution_count": 479,
   "metadata": {},
   "outputs": [
    {
     "data": {
      "text/plain": [
       "0.4840297619047619"
      ]
     },
     "execution_count": 479,
     "metadata": {},
     "output_type": "execute_result"
    }
   ],
   "source": [
    "enc = OneHotEncoder(handle_unknown='ignore', sparse_output = False)\n",
    "\n",
    "q = pd.DataFrame(enc.fit_transform(X_OH[categorical_col]))\n",
    "q.index = X_OH.index\n",
    "\n",
    "X_OH = pd.concat([X.drop(categorical_col, axis = 1), q], axis = 1)\n",
    "\n",
    "X_OH.columns = X_OH.columns.astype(str)\n",
    "\n",
    "rf_model_4 = RandomForestRegressor(random_state = 1)\n",
    "rf_model_4.fit(X_OH, y_OH)\n",
    "\n",
    "scores = -1 * cross_val_score(rf_model_4, X_OH, y_OH, cv = 5, scoring = 'neg_mean_absolute_error')\n",
    "scores.mean()"
   ]
  },
  {
   "cell_type": "code",
   "execution_count": 480,
   "metadata": {},
   "outputs": [
    {
     "data": {
      "text/plain": [
       "0.6765700545541782"
      ]
     },
     "execution_count": 480,
     "metadata": {},
     "output_type": "execute_result"
    }
   ],
   "source": [
    "# Does not work correctly, but this is meant to do what was already done above using pipelines\n",
    "ct = ColumnTransformer([('cat', OneHotEncoder(handle_unknown = 'ignore'), categorical_col)])\n",
    "rf_model_3 = Pipeline([('processing', ct), ('rf', RandomForestRegressor(random_state = 1))])\n",
    "rf_model_3.fit(X, y)\n",
    "\n",
    "scores = -1 * cross_val_score(rf_model_3, X, y, cv = 5, scoring = 'neg_mean_absolute_error')\n",
    "scores.mean()"
   ]
  },
  {
   "cell_type": "markdown",
   "metadata": {},
   "source": [
    "There appears to be no significant difference between the two types of categorical encoding."
   ]
  },
  {
   "cell_type": "markdown",
   "metadata": {},
   "source": [
    "# 6: Feature Importances"
   ]
  },
  {
   "cell_type": "markdown",
   "metadata": {},
   "source": [
    "The first model, which generalizes blemishes, uses ordinal encoding, and includes all features, is the best so far. We can thus take a look at the feature importances in that model to see what we can imporve."
   ]
  },
  {
   "cell_type": "code",
   "execution_count": 481,
   "metadata": {},
   "outputs": [
    {
     "name": "stdout",
     "output_type": "stream",
     "text": [
      "Brix           0.522982\n",
      "Softness       0.148337\n",
      "Ripeness       0.053848\n",
      "HarvestTime    0.049171\n",
      "Weight         0.046822\n",
      "Variety        0.042246\n",
      "Size           0.041867\n",
      "pH             0.041804\n",
      "Blemishes      0.036708\n",
      "Color          0.016215\n",
      "dtype: float64\n"
     ]
    }
   ],
   "source": [
    "fi = pd.Series(data = rf_model_1.feature_importances_, index = X.columns)\n",
    "print(fi.sort_values(ascending = False))"
   ]
  },
  {
   "cell_type": "markdown",
   "metadata": {},
   "source": [
    "We can try a model with just brix (sweetness) and softness to see what happens."
   ]
  },
  {
   "cell_type": "code",
   "execution_count": 482,
   "metadata": {},
   "outputs": [
    {
     "data": {
      "text/plain": [
       "0.5658078663175921"
      ]
     },
     "execution_count": 482,
     "metadata": {},
     "output_type": "execute_result"
    }
   ],
   "source": [
    "X_small = raw_data.copy()[['Brix', 'Softness']]\n",
    "\n",
    "rf_model_5 = RandomForestRegressor(random_state = 1)\n",
    "rf_model_5.fit(X_small, y)\n",
    "\n",
    "scores = -1 * cross_val_score(rf_model_5, X_small, y, cv = 5, scoring = 'neg_mean_absolute_error')\n",
    "scores.mean()"
   ]
  },
  {
   "cell_type": "markdown",
   "metadata": {},
   "source": [
    "It is once again worse than the first model."
   ]
  },
  {
   "cell_type": "markdown",
   "metadata": {},
   "source": [
    "# 7: XGBoost"
   ]
  },
  {
   "cell_type": "markdown",
   "metadata": {},
   "source": [
    "So far, the best random forest model has had an MAE of around 0.5. We can try an XGBoost model instead of a random forest to see if we can get better predictions."
   ]
  },
  {
   "cell_type": "code",
   "execution_count": 497,
   "metadata": {},
   "outputs": [
    {
     "data": {
      "text/plain": [
       "0.555728174127689"
      ]
     },
     "execution_count": 497,
     "metadata": {},
     "output_type": "execute_result"
    }
   ],
   "source": [
    "xgb_model_ord = XGBRegressor(n_estimators=100, learning_rate=0.02, n_jobs=8, random_state = 1)\n",
    "xgb_model_ord.fit(X, y)\n",
    "\n",
    "scores = -1 * cross_val_score(xgb_model_ord, X, y, cv = 5, scoring = 'neg_mean_absolute_error')\n",
    "scores.mean()"
   ]
  },
  {
   "cell_type": "code",
   "execution_count": 498,
   "metadata": {},
   "outputs": [
    {
     "data": {
      "text/plain": [
       "0.5342212629865627"
      ]
     },
     "execution_count": 498,
     "metadata": {},
     "output_type": "execute_result"
    }
   ],
   "source": [
    "xgb_model_OH = XGBRegressor(n_estimators=100, learning_rate=0.02, n_jobs=8, random_state = 1)\n",
    "xgb_model_OH.fit(X_OH, y)\n",
    "\n",
    "scores = -1 * cross_val_score(xgb_model_OH, X_OH, y, cv = 5, scoring = 'neg_mean_absolute_error')\n",
    "scores.mean()"
   ]
  },
  {
   "cell_type": "markdown",
   "metadata": {},
   "source": [
    "# 8: Conclusion"
   ]
  },
  {
   "cell_type": "markdown",
   "metadata": {},
   "source": [
    "The best model so far was the first random forest model, which included all features, used ordinal encoding for categorical variables, and generalized blemishes into a simple Y/N. The MAE for this model is roughly 0.5. A similar model which used one hot encoding instead of ordinal encoding and did everything else the same scored similarly."
   ]
  },
  {
   "cell_type": "markdown",
   "metadata": {},
   "source": [
    "This dataset is fairly simple, so it is unlikely that there are many more optimizations that can be done here."
   ]
  },
  {
   "cell_type": "markdown",
   "metadata": {},
   "source": [
    "Some notes:\n",
    "- Kaggle my beloved\n",
    "- I fit a lot of the models before doing cross-validation which is unnecessary but I figured it would be useful in case I wanted to analyze the model further beyond cross-validation scores and it had a negligible effect on speed\n",
    "- I did a few parameter tweaks that aren't shown here because they had a negligible effect on model accuracy"
   ]
  }
 ],
 "metadata": {
  "kernelspec": {
   "display_name": "Python 3",
   "language": "python",
   "name": "python3"
  },
  "language_info": {
   "codemirror_mode": {
    "name": "ipython",
    "version": 3
   },
   "file_extension": ".py",
   "mimetype": "text/x-python",
   "name": "python",
   "nbconvert_exporter": "python",
   "pygments_lexer": "ipython3",
   "version": "3.10.4"
  }
 },
 "nbformat": 4,
 "nbformat_minor": 2
}
